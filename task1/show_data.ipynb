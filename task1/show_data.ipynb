{
 "cells": [
  {
   "cell_type": "code",
   "execution_count": 3,
   "outputs": [],
   "source": [
    "import pandas as pd\n",
    "import numpy as np\n",
    "import matplotlib.pyplot as plt\n",
    "from youngnet import nn"
   ],
   "metadata": {
    "collapsed": false,
    "pycharm": {
     "name": "#%%\n"
    }
   }
  },
  {
   "cell_type": "code",
   "execution_count": 4,
   "outputs": [],
   "source": [
    "data1 = pd.read_csv('../LR_dataset/data1.csv', header=None)\n",
    "data2 = pd.read_csv('../LR_dataset/data2.csv', header=None)\n",
    "data1 = data1.values\n",
    "data2 = data2.values\n",
    "data1_x = data1[:, :-1]\n",
    "data1_y = nn.onehot(data1[:, -1].astype(int).reshape(-1), 2)\n",
    "data2_x = data2[:, :-1]\n",
    "data2_y = nn.onehot(data2[:, -1].astype(int).reshape(-1), 2)"
   ],
   "metadata": {
    "collapsed": false,
    "pycharm": {
     "name": "#%%\n"
    }
   }
  },
  {
   "cell_type": "code",
   "execution_count": 18,
   "outputs": [],
   "source": [
    "train_data1_x, test_data1_x, train_data1_y, test_data1_y = nn.train_test_split(data1_x, data1_y, test_size=len(data1_x)//8)\n",
    "train_data2_x, test_data2_x, train_data2_y, test_data2_y = nn.train_test_split(data2_x, data2_y, test_size=len(data2_x)//8)"
   ],
   "metadata": {
    "collapsed": false,
    "pycharm": {
     "name": "#%%\n"
    }
   }
  },
  {
   "cell_type": "code",
   "execution_count": 17,
   "outputs": [
    {
     "data": {
      "text/plain": "array([[  6.   , 148.   ,  72.   , ...,  33.6  ,   0.627,  50.   ],\n       [  1.   ,  85.   ,  66.   , ...,  26.6  ,   0.351,  31.   ],\n       [  8.   , 183.   ,  64.   , ...,  23.3  ,   0.672,  32.   ],\n       ...,\n       [  5.   , 121.   ,  72.   , ...,  26.2  ,   0.245,  30.   ],\n       [  1.   , 126.   ,  60.   , ...,  30.1  ,   0.349,  47.   ],\n       [  1.   ,  93.   ,  70.   , ...,  30.4  ,   0.315,  23.   ]])"
     },
     "execution_count": 17,
     "metadata": {},
     "output_type": "execute_result"
    }
   ],
   "source": [
    "data2_x"
   ],
   "metadata": {
    "collapsed": false,
    "pycharm": {
     "name": "#%%\n"
    }
   }
  },
  {
   "cell_type": "code",
   "execution_count": 19,
   "outputs": [
    {
     "data": {
      "text/plain": "array([[  2.   ,  85.   ,  65.   , ...,  39.6  ,   0.93 ,  27.   ],\n       [  1.   ,  81.   ,  72.   , ...,  26.6  ,   0.283,  24.   ],\n       [  0.   , 101.   ,  62.   , ...,  21.9  ,   0.336,  25.   ],\n       ...,\n       [  2.   , 106.   ,  56.   , ...,  29.   ,   0.426,  22.   ],\n       [  1.   , 147.   ,  94.   , ...,  49.3  ,   0.358,  27.   ],\n       [  2.   ,  93.   ,  64.   , ...,  38.   ,   0.674,  23.   ]])"
     },
     "execution_count": 19,
     "metadata": {},
     "output_type": "execute_result"
    }
   ],
   "source": [
    "train_data2_x"
   ],
   "metadata": {
    "collapsed": false,
    "pycharm": {
     "name": "#%%\n"
    }
   }
  },
  {
   "cell_type": "code",
   "execution_count": 8,
   "outputs": [
    {
     "data": {
      "text/plain": "array([[0.000e+00, 0.000e+00, 0.000e+00, ..., 1.000e+00, 1.000e+00,\n        3.000e+00],\n       [0.000e+00, 0.000e+00, 0.000e+00, ..., 5.466e+00, 2.200e+01,\n        8.200e+01],\n       [1.400e-01, 1.400e-01, 2.900e-01, ..., 2.686e+00, 7.300e+01,\n        3.680e+02],\n       ...,\n       [0.000e+00, 0.000e+00, 0.000e+00, ..., 1.560e+00, 9.000e+00,\n        6.400e+01],\n       [0.000e+00, 0.000e+00, 0.000e+00, ..., 2.576e+00, 1.400e+01,\n        6.700e+01],\n       [0.000e+00, 5.500e-01, 5.500e-01, ..., 4.761e+00, 1.400e+02,\n        2.000e+02]])"
     },
     "execution_count": 8,
     "metadata": {},
     "output_type": "execute_result"
    }
   ],
   "source": [
    "train_data1_x"
   ],
   "metadata": {
    "collapsed": false,
    "pycharm": {
     "name": "#%%\n"
    }
   }
  },
  {
   "cell_type": "code",
   "execution_count": 10,
   "outputs": [],
   "source": [
    "train_data1_x_copy = train_data1_x.copy()\n",
    "train_data1_y_copy = train_data1_y.copy()\n",
    "test_data1_x_copy = test_data1_x.copy()\n",
    "test_data1_y_copy = test_data1_y.copy()"
   ],
   "metadata": {
    "collapsed": false,
    "pycharm": {
     "name": "#%%\n"
    }
   }
  },
  {
   "cell_type": "code",
   "execution_count": 11,
   "outputs": [
    {
     "ename": "NameError",
     "evalue": "name 'test' is not defined",
     "output_type": "error",
     "traceback": [
      "\u001B[1;31m---------------------------------------------------------------------------\u001B[0m",
      "\u001B[1;31mNameError\u001B[0m                                 Traceback (most recent call last)",
      "Input \u001B[1;32mIn [11]\u001B[0m, in \u001B[0;36m<cell line: 1>\u001B[1;34m()\u001B[0m\n\u001B[1;32m----> 1\u001B[0m \u001B[43mtest\u001B[49m\n",
      "\u001B[1;31mNameError\u001B[0m: name 'test' is not defined"
     ]
    }
   ],
   "source": [
    "test"
   ],
   "metadata": {
    "collapsed": false,
    "pycharm": {
     "name": "#%%\n"
    }
   }
  },
  {
   "cell_type": "code",
   "execution_count": 12,
   "outputs": [
    {
     "data": {
      "text/plain": "array([[0.000e+00, 0.000e+00, 0.000e+00, ..., 1.259e+00, 3.000e+00,\n        3.400e+01],\n       [0.000e+00, 3.400e-01, 6.800e-01, ..., 3.131e+00, 1.300e+01,\n        1.190e+02],\n       [0.000e+00, 0.000e+00, 0.000e+00, ..., 8.476e+00, 6.800e+01,\n        3.560e+02],\n       ...,\n       [0.000e+00, 0.000e+00, 5.800e-01, ..., 3.281e+00, 6.400e+01,\n        3.610e+02],\n       [0.000e+00, 0.000e+00, 0.000e+00, ..., 3.368e+00, 7.000e+00,\n        6.400e+01],\n       [0.000e+00, 0.000e+00, 9.100e-01, ..., 2.032e+00, 1.200e+01,\n        1.260e+02]])"
     },
     "execution_count": 12,
     "metadata": {},
     "output_type": "execute_result"
    }
   ],
   "source": [
    "test_data1_x"
   ],
   "metadata": {
    "collapsed": false,
    "pycharm": {
     "name": "#%%\n"
    }
   }
  },
  {
   "cell_type": "code",
   "execution_count": 20,
   "outputs": [],
   "source": [
    "train_data1_x_copy, test_data1_x_copy = nn.standardization(train_data1_x_copy, test_data1_x_copy)\n",
    "train_data2_x_copy, test_data2_x_copy = nn.standardization(train_data2_x, test_data2_x)"
   ],
   "metadata": {
    "collapsed": false,
    "pycharm": {
     "name": "#%%\n"
    }
   }
  },
  {
   "cell_type": "code",
   "execution_count": 21,
   "outputs": [
    {
     "data": {
      "text/plain": "array([[-0.52950694, -1.13894755, -0.19140219, ...,  0.96221417,\n         1.36345405, -0.51172242],\n       [-0.8275209 , -1.26509577,  0.1703318 , ..., -0.67761006,\n        -0.57228349, -0.77355806],\n       [-1.12553486, -0.6343547 , -0.34643105, ..., -1.27046959,\n        -0.41371457, -0.68627951],\n       ...,\n       [-0.52950694, -0.47666943, -0.65648876, ..., -0.37487328,\n        -0.1444466 , -0.94811515],\n       [-0.8275209 ,  0.81634978,  1.30721008, ...,  2.18577533,\n        -0.34789351, -0.51172242],\n       [-0.52950694, -0.88665113, -0.24307848, ...,  0.76038965,\n         0.59753626, -0.8608366 ]])"
     },
     "execution_count": 21,
     "metadata": {},
     "output_type": "execute_result"
    }
   ],
   "source": [
    "train_data2_x_copy"
   ],
   "metadata": {
    "collapsed": false,
    "pycharm": {
     "name": "#%%\n"
    }
   }
  },
  {
   "cell_type": "code",
   "execution_count": null,
   "outputs": [],
   "source": [],
   "metadata": {
    "collapsed": false,
    "pycharm": {
     "name": "#%%\n"
    }
   }
  }
 ],
 "metadata": {
  "kernelspec": {
   "display_name": "Python 3",
   "language": "python",
   "name": "python3"
  },
  "language_info": {
   "codemirror_mode": {
    "name": "ipython",
    "version": 2
   },
   "file_extension": ".py",
   "mimetype": "text/x-python",
   "name": "python",
   "nbconvert_exporter": "python",
   "pygments_lexer": "ipython2",
   "version": "2.7.6"
  }
 },
 "nbformat": 4,
 "nbformat_minor": 0
}